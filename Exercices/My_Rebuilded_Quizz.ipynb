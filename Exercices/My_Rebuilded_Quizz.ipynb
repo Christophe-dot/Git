{
 "cells": [
  {
   "cell_type": "markdown",
   "metadata": {},
   "source": [
    "# My_Rebuilded_Quizz - final ?"
   ]
  },
  {
   "cell_type": "markdown",
   "metadata": {},
   "source": [
    "Pose 3 questions à l'utilisateur : seules 3 réponses sont autorisées"
   ]
  },
  {
   "cell_type": "code",
   "execution_count": null,
   "metadata": {},
   "outputs": [],
   "source": [
    "def nb_essais(nb_de_chances):\n",
    "    if nb_de_chances == 0:\n",
    "        print(\"Oh non ! Tu as perdu le jeu...\")\n",
    "        return 1\n",
    "    else:\n",
    "        print(\"Dommage ! Il te reste {} chances\".format(nb_de_chances))\n",
    "        return 0\n",
    "\n",
    "def questions(question, answer, nb_de_chances):\n",
    "    user_answer = input(question).lower()\n",
    "    while user_answer != answer:\n",
    "        nb_de_chances -= 1\n",
    "        if nb_essais(nb_de_chances):\n",
    "            break\n",
    "        user_answer = input(question).lower()\n",
    "    return nb_de_chances\n",
    "\n",
    "nb_de_chances = 3\n",
    "print(\"Voici notre quiz, tu as {} chances !\".format(nb_de_chances))\n",
    "\n",
    "dic_questions = {\"Combien de fois la France a gagné la coupe du monde ? \":\"2\",\n",
    "    \"Quand a été fondé Apple ? \":\"1976\",\n",
    "    \"Qui a fondé SpaceX ? \":\"elon musk\"}\n",
    "\n",
    "for item in dic_questions.items():\n",
    "    if nb_de_chances > 0:\n",
    "        nb_de_chances = questions(item[0], item[1], nb_de_chances)\n",
    "\n",
    "if nb_de_chances > 0:\n",
    "    print(\"Bravo ! Tu as gagné le quiz !\") \n"
   ]
  }
 ],
 "metadata": {
  "kernelspec": {
   "display_name": "base",
   "language": "python",
   "name": "python3"
  },
  "language_info": {
   "codemirror_mode": {
    "name": "ipython",
    "version": 3
   },
   "file_extension": ".py",
   "mimetype": "text/x-python",
   "name": "python",
   "nbconvert_exporter": "python",
   "pygments_lexer": "ipython3",
   "version": "3.12.4"
  },
  "orig_nbformat": 2
 },
 "nbformat": 4,
 "nbformat_minor": 2
}
