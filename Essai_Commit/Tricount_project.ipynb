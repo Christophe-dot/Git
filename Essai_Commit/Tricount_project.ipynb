{
 "cells": [
  {
   "cell_type": "markdown",
   "id": "a165e030-ae1d-4103-a82a-10005b079b6e",
   "metadata": {},
   "source": [
    "# Tricount_project"
   ]
  },
  {
   "cell_type": "markdown",
   "id": "ac192330-8d84-49b4-a34c-46bfdbd855dc",
   "metadata": {},
   "source": [
    "### Lors d'un voyage, chacun paie un peu de sa poche. Mais à la fin du compte, qui doit combien à qui ?"
   ]
  },
  {
   "cell_type": "markdown",
   "id": "e8b4f56e-9a01-4039-b9af-c799e91ef84a",
   "metadata": {},
   "source": [
    "##### Il est nécessaire que sous les montants saisis soient exprimés en chiffres !"
   ]
  },
  {
   "cell_type": "code",
   "execution_count": 3,
   "id": "135eada2-7d12-4a48-a5c0-f46a6d8114ca",
   "metadata": {},
   "outputs": [],
   "source": [
    "def montant_format_verification(liste_frais):\n",
    "    while True:\n",
    "        try:\n",
    "            liste_frais = [float(montant) for montant in liste_frais]\n",
    "            break\n",
    "        except:\n",
    "            print(\"Merci de saisir les montants en euros !\")\n",
    "            frais = input(\"Combien chacun a-t-il payé (dans le même ordre de saisie et en séparant les montants avec des virgules)?\")\n",
    "            liste_frais = frais.split(\",\")\n",
    "    return(liste_frais)"
   ]
  },
  {
   "cell_type": "markdown",
   "id": "aa6812e9-d750-457a-a101-f2a82080d836",
   "metadata": {},
   "source": [
    "##### Bien pratique ce projet..."
   ]
  },
  {
   "cell_type": "code",
   "execution_count": 9,
   "id": "d123c418-87c4-48e3-b938-064e98f9ea57",
   "metadata": {},
   "outputs": [
    {
     "name": "stdout",
     "output_type": "stream",
     "text": [
      "Qui sont les voyageurs (prénoms séparés par une virgule) ? Paul, Albert, Raymonde, René\n",
      "Combien chacun a-t-il payé (dans le même ordre de saisie et en séparant les montants avec des virgules)? 43, 66, 12, 54\n"
     ]
    },
    {
     "name": "stdout",
     "output_type": "stream",
     "text": [
      "Paul doit rembourser 0.75 €\n",
      " Albert doit recevoir 22.25 €\n",
      " Raymonde doit rembourser 31.75 €\n",
      " René doit recevoir 10.25 €\n",
      "Le montant total du voyage est de: 175.00 €\n"
     ]
    }
   ],
   "source": [
    "voyageurs = input(\"Qui sont les voyageurs (prénoms séparés par une virgule) ?\")\n",
    "frais = input(\"Combien chacun a-t-il payé (dans le même ordre de saisie et en séparant les montants avec des virgules)?\")\n",
    "\n",
    "liste_voyageurs = voyageurs.split(\",\")\n",
    "liste_frais = montant_format_verification(frais.split(\",\"))\n",
    "\n",
    "while len(liste_voyageurs) != len(liste_frais):\n",
    "    print(\"Tu n'as pas saisi le même nombre de voyageurs que de montants !\")\n",
    "\n",
    "    voyageurs = input(\"Qui sont les voyageurs (prénoms séparés par une virgule) ?\")\n",
    "    frais = input(\"Combien chacun a-t-il payé (dans le même ordre de saisie et en séparant les montants avec des virgules)?\")\n",
    "\n",
    "    liste_voyageurs = voyageurs.split(\",\")\n",
    "    liste_frais = montant_format_verification(frais.split(\",\"))\n",
    "\n",
    "else:\n",
    "    voyageurs = [(ami, montant) for ami, montant in zip(liste_voyageurs, liste_frais)]\n",
    "    montant_total = sum([montant for _, montant in voyageurs])\n",
    "\n",
    "\n",
    "    for ami,montant in zip(liste_voyageurs, liste_frais):\n",
    "        even_share = montant_total / len(voyageurs)\n",
    "        ami_balance = montant - even_share\n",
    "\n",
    "        if ami_balance < 0:\n",
    "            print(\"{} doit rembourser {:.2f} €\".format(ami, -ami_balance))\n",
    "        elif ami_balance > 0:\n",
    "            print(\"{} doit recevoir {:.2f} €\".format(ami, ami_balance))\n",
    "        else:\n",
    "            print(\"{} ne doit rien recevoir ni donner\".format(ami))\n",
    "\n",
    "print(\"Le montant total du voyage est de: {:.2f} €\".format(montant_total))\n"
   ]
  }
 ],
 "metadata": {
  "kernelspec": {
   "display_name": "Python 3 (ipykernel)",
   "language": "python",
   "name": "python3"
  },
  "language_info": {
   "codemirror_mode": {
    "name": "ipython",
    "version": 3
   },
   "file_extension": ".py",
   "mimetype": "text/x-python",
   "name": "python",
   "nbconvert_exporter": "python",
   "pygments_lexer": "ipython3",
   "version": "3.12.4"
  }
 },
 "nbformat": 4,
 "nbformat_minor": 5
}
